{
 "cells": [
  {
   "cell_type": "code",
   "execution_count": null,
   "id": "a382e919",
   "metadata": {},
   "outputs": [],
   "source": [
    "# Packages for NRC\n",
    "from nrclex import NRCLex\n",
    "import plotly.express as px"
   ]
  },
  {
   "cell_type": "code",
   "execution_count": null,
   "id": "e4035e7a",
   "metadata": {},
   "outputs": [],
   "source": [
    "# Obama NRC\n",
    "str_tweet_obama = ','.join(obama_eda['text_clean'])\n",
    "text_object_obama = NRCLex(str_tweet_obama)\n",
    "\n",
    "data = text_object_obama.raw_emotion_scores\n",
    "\n",
    "emotion_df = pd.DataFrame.from_dict(data, orient='index')\n",
    "emotion_df = emotion_df.reset_index()\n",
    "emotion_df = emotion_df.rename(columns={'index' : 'Emotion Classification' , 0: 'Emotion Count'})\n",
    "emotion_df = emotion_df.sort_values(by=['Emotion Count'], ascending=False)\n",
    "fig = px.bar(emotion_df, x='Emotion Count', y='Emotion Classification', color = 'Emotion Classification', orientation='h', width = 800, height = 400)\n",
    "fig.show()"
   ]
  },
  {
   "cell_type": "code",
   "execution_count": null,
   "id": "d9dfe858",
   "metadata": {},
   "outputs": [],
   "source": [
    "# Trump NRC\n",
    "str_tweet_trump = ','.join(trump_eda['text_clean'])\n",
    "text_object_trump = NRCLex(str_tweet_trump)\n",
    "\n",
    "data = text_object_trump.raw_emotion_scores\n",
    "\n",
    "emotion_df = pd.DataFrame.from_dict(data, orient='index')\n",
    "emotion_df = emotion_df.reset_index()\n",
    "emotion_df = emotion_df.rename(columns={'index' : 'Emotion Classification' , 0: 'Emotion Count'})\n",
    "emotion_df = emotion_df.sort_values(by=['Emotion Count'], ascending=False)\n",
    "fig = px.bar(emotion_df, x='Emotion Count', y='Emotion Classification', color = 'Emotion Classification', orientation='h', width = 800, height = 400)\n",
    "fig.show()"
   ]
  },
  {
   "cell_type": "code",
   "execution_count": null,
   "id": "0d292e24",
   "metadata": {},
   "outputs": [],
   "source": [
    "# Biden NRC\n",
    "str_tweet_biden = ','.join(biden_eda['text_clean'])\n",
    "text_object_biden = NRCLex(str_tweet_biden)\n",
    "\n",
    "data = text_object_biden.raw_emotion_scores\n",
    "\n",
    "emotion_df = pd.DataFrame.from_dict(data, orient='index')\n",
    "emotion_df = emotion_df.reset_index()\n",
    "emotion_df = emotion_df.rename(columns={'index' : 'Emotion Classification' , 0: 'Emotion Count'})\n",
    "emotion_df = emotion_df.sort_values(by=['Emotion Count'], ascending=False)\n",
    "fig = px.bar(emotion_df, x='Emotion Count', y='Emotion Classification', color = 'Emotion Classification', orientation='h', width = 800, height = 400)\n",
    "fig.show()"
   ]
  }
 ],
 "metadata": {
  "kernelspec": {
   "display_name": "Python 3 (ipykernel)",
   "language": "python",
   "name": "python3"
  },
  "language_info": {
   "codemirror_mode": {
    "name": "ipython",
    "version": 3
   },
   "file_extension": ".py",
   "mimetype": "text/x-python",
   "name": "python",
   "nbconvert_exporter": "python",
   "pygments_lexer": "ipython3",
   "version": "3.9.7"
  }
 },
 "nbformat": 4,
 "nbformat_minor": 5
}
