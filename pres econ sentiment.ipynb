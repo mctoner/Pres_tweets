{
 "cells": [
  {
   "cell_type": "code",
   "execution_count": 32,
   "metadata": {},
   "outputs": [],
   "source": [
    "import pandas as pd\n",
    "import numpy as np\n",
    "import re \n",
    "trump = pd.read_csv('realdonaldtrump.csv')\n",
    "temp = []\n",
    "for index, i in enumerate(trump['date']):\n",
    "    if i[0:4] in ['2017','2018','2019','2020']:    \n",
    "        temp.append(index)\n",
    "pres_trump = trump.loc[temp]"
   ]
  },
  {
   "cell_type": "code",
   "execution_count": 4,
   "metadata": {},
   "outputs": [],
   "source": [
    "obama = pd.read_csv('Obamawhitehouse_tweets.csv')\n",
    "biden = pd.read_csv('POTUS_tweets.csv')"
   ]
  },
  {
   "cell_type": "code",
   "execution_count": 5,
   "metadata": {},
   "outputs": [
    {
     "name": "stdout",
     "output_type": "stream",
     "text": [
      "(1919, 5)\n",
      "(2402, 5)\n",
      "(12235, 8)\n"
     ]
    }
   ],
   "source": [
    "print(obama.shape)\n",
    "print(biden.shape)\n",
    "print(pres_trump.shape)\n",
    "# print(obama.head())\n",
    "# print(biden.head())\n",
    "# print(pres_trump.head())"
   ]
  },
  {
   "cell_type": "code",
   "execution_count": 6,
   "metadata": {},
   "outputs": [
    {
     "name": "stderr",
     "output_type": "stream",
     "text": [
      "C:\\Users\\slcro\\anaconda3\\lib\\site-packages\\pandas\\core\\frame.py:4441: SettingWithCopyWarning: \n",
      "A value is trying to be set on a copy of a slice from a DataFrame\n",
      "\n",
      "See the caveats in the documentation: https://pandas.pydata.org/pandas-docs/stable/user_guide/indexing.html#returning-a-view-versus-a-copy\n",
      "  return super().rename(\n"
     ]
    }
   ],
   "source": [
    "# creating the csvs\n",
    "o_tweets = obama[['text','created_at']]\n",
    "b_tweets = biden[['text','created_at']]\n",
    "t_tweets = pres_trump[['content','date']]\n",
    "t_tweets.rename({'content': 'text', 'date': 'created_at'}, axis=1, inplace=True)\n",
    "# o_tweets.to_csv('obama.csv',index=False)\n",
    "# b_tweets.to_csv('biden.csv',index=False)\n",
    "# t_tweets.to_csv('trump.csv',index=False)"
   ]
  },
  {
   "cell_type": "code",
   "execution_count": 34,
   "metadata": {},
   "outputs": [
    {
     "name": "stderr",
     "output_type": "stream",
     "text": [
      "<ipython-input-34-eadb1a2550f7>:4: SettingWithCopyWarning: \n",
      "A value is trying to be set on a copy of a slice from a DataFrame.\n",
      "Try using .loc[row_indexer,col_indexer] = value instead\n",
      "\n",
      "See the caveats in the documentation: https://pandas.pydata.org/pandas-docs/stable/user_guide/indexing.html#returning-a-view-versus-a-copy\n",
      "  o_tweets[\"text\"] = o_tweets.text.map(remove_rt).map(rt)\n",
      "<ipython-input-34-eadb1a2550f7>:5: SettingWithCopyWarning: \n",
      "A value is trying to be set on a copy of a slice from a DataFrame.\n",
      "Try using .loc[row_indexer,col_indexer] = value instead\n",
      "\n",
      "See the caveats in the documentation: https://pandas.pydata.org/pandas-docs/stable/user_guide/indexing.html#returning-a-view-versus-a-copy\n",
      "  o_tweets[\"text\"] = o_tweets.text.str.lower()\n",
      "<ipython-input-34-eadb1a2550f7>:6: SettingWithCopyWarning: \n",
      "A value is trying to be set on a copy of a slice from a DataFrame.\n",
      "Try using .loc[row_indexer,col_indexer] = value instead\n",
      "\n",
      "See the caveats in the documentation: https://pandas.pydata.org/pandas-docs/stable/user_guide/indexing.html#returning-a-view-versus-a-copy\n",
      "  b_tweets[\"text\"] = b_tweets.text.map(remove_rt).map(rt)\n",
      "<ipython-input-34-eadb1a2550f7>:7: SettingWithCopyWarning: \n",
      "A value is trying to be set on a copy of a slice from a DataFrame.\n",
      "Try using .loc[row_indexer,col_indexer] = value instead\n",
      "\n",
      "See the caveats in the documentation: https://pandas.pydata.org/pandas-docs/stable/user_guide/indexing.html#returning-a-view-versus-a-copy\n",
      "  b_tweets[\"text\"] = b_tweets.text.str.lower()\n"
     ]
    }
   ],
   "source": [
    "#Removing RT, Punctuation etc\n",
    "remove_rt = lambda x: re.sub('RT @\\w+: ',\" \",x)\n",
    "rt = lambda x: re.sub(\"(@[A-Za-z0-9]+)|([^0-9A-Za-z \\t])|(\\w+:\\/\\/\\S+)\",\" \",x)\n",
    "o_tweets[\"text\"] = o_tweets.text.map(remove_rt).map(rt)\n",
    "o_tweets[\"text\"] = o_tweets.text.str.lower()\n",
    "b_tweets[\"text\"] = b_tweets.text.map(remove_rt).map(rt)\n",
    "b_tweets[\"text\"] = b_tweets.text.str.lower()\n",
    "t_tweets[\"text\"] = t_tweets.text.map(remove_rt).map(rt)\n",
    "t_tweets[\"text\"] = t_tweets.text.str.lower()"
   ]
  },
  {
   "cell_type": "code",
   "execution_count": 35,
   "metadata": {},
   "outputs": [],
   "source": [
    "# creating labels using nltk vader\n",
    "import nltk\n",
    "# nltk.download('vader_lexicon')\n",
    "from nltk.sentiment.vader import SentimentIntensityAnalyzer as si\n",
    "def getSents(textList):\n",
    "    sents = []\n",
    "    asi = si()\n",
    "    for text in textList['text']:\n",
    "        temp = asi.polarity_scores(text)['compound']\n",
    "        if temp >= 0.05:\n",
    "            sents.append('Positive')\n",
    "        elif (temp > -0.05) and (temp < 0.05):\n",
    "            sents.append('Neutral')\n",
    "        elif temp <= -0.05:\n",
    "            sents.append('Negative')\n",
    "    return sents\n"
   ]
  },
  {
   "cell_type": "code",
   "execution_count": 36,
   "metadata": {},
   "outputs": [
    {
     "name": "stderr",
     "output_type": "stream",
     "text": [
      "<ipython-input-36-a458eae1d0fa>:1: SettingWithCopyWarning: \n",
      "A value is trying to be set on a copy of a slice from a DataFrame.\n",
      "Try using .loc[row_indexer,col_indexer] = value instead\n",
      "\n",
      "See the caveats in the documentation: https://pandas.pydata.org/pandas-docs/stable/user_guide/indexing.html#returning-a-view-versus-a-copy\n",
      "  o_tweets['sents'] = getSents(o_tweets)\n",
      "<ipython-input-36-a458eae1d0fa>:2: SettingWithCopyWarning: \n",
      "A value is trying to be set on a copy of a slice from a DataFrame.\n",
      "Try using .loc[row_indexer,col_indexer] = value instead\n",
      "\n",
      "See the caveats in the documentation: https://pandas.pydata.org/pandas-docs/stable/user_guide/indexing.html#returning-a-view-versus-a-copy\n",
      "  b_tweets['sents'] = getSents(b_tweets)\n"
     ]
    }
   ],
   "source": [
    "o_tweets['sents'] = getSents(o_tweets)\n",
    "b_tweets['sents'] = getSents(b_tweets)\n",
    "t_tweets['sents'] = getSents(t_tweets)\n"
   ]
  },
  {
   "cell_type": "code",
   "execution_count": 37,
   "metadata": {},
   "outputs": [],
   "source": [
    "o_tweets.to_csv('obama.csv',index=False)\n",
    "b_tweets.to_csv('biden.csv',index=False)\n",
    "t_tweets.to_csv('trump.csv',index=False)"
   ]
  },
  {
   "cell_type": "code",
   "execution_count": 38,
   "metadata": {},
   "outputs": [
    {
     "name": "stdout",
     "output_type": "stream",
     "text": [
      "Obama:\n",
      "Positive    0.544554\n",
      "Neutral     0.293903\n",
      "Negative    0.161542\n",
      "Name: sents, dtype: float64\n",
      "Trump:\n",
      "Positive    0.559134\n",
      "Negative    0.299714\n",
      "Neutral     0.141152\n",
      "Name: sents, dtype: float64\n",
      "Biden:\n",
      "Positive    0.684846\n",
      "Negative    0.172773\n",
      "Neutral     0.142381\n",
      "Name: sents, dtype: float64\n"
     ]
    }
   ],
   "source": [
    "print('Obama:')\n",
    "print(o_tweets['sents'].value_counts(normalize=True))\n",
    "print('Trump:')\n",
    "print(t_tweets['sents'].value_counts(normalize=True))\n",
    "print('Biden:')\n",
    "print(b_tweets['sents'].value_counts(normalize=True))"
   ]
  },
  {
   "cell_type": "code",
   "execution_count": 41,
   "metadata": {},
   "outputs": [],
   "source": [
    "# filter out dataframe for economic terms \n",
    "def econ_filter(tweets):\n",
    "    return tweets.loc[tweets['text'].str.contains('economy|money|stocks|market|bank|economies|jobs|job')]"
   ]
  },
  {
   "cell_type": "code",
   "execution_count": 43,
   "metadata": {},
   "outputs": [],
   "source": [
    "econ_o_tweets = econ_filter(o_tweets)\n",
    "econ_t_tweets = econ_filter(t_tweets)\n",
    "econ_b_tweets = econ_filter(b_tweets)"
   ]
  },
  {
   "cell_type": "code",
   "execution_count": 44,
   "metadata": {},
   "outputs": [
    {
     "name": "stdout",
     "output_type": "stream",
     "text": [
      "Obama:\n",
      "Positive    0.595960\n",
      "Neutral     0.272727\n",
      "Negative    0.131313\n",
      "Name: sents, dtype: float64\n",
      "Trump:\n",
      "Positive    0.679148\n",
      "Negative    0.246696\n",
      "Neutral     0.074156\n",
      "Name: sents, dtype: float64\n",
      "Biden:\n",
      "Positive    0.714628\n",
      "Negative    0.165468\n",
      "Neutral     0.119904\n",
      "Name: sents, dtype: float64\n"
     ]
    }
   ],
   "source": [
    "print('Obama:')\n",
    "print(econ_o_tweets['sents'].value_counts(normalize=True))\n",
    "print('Trump:')\n",
    "print(econ_t_tweets['sents'].value_counts(normalize=True))\n",
    "print('Biden:')\n",
    "print(econ_b_tweets['sents'].value_counts(normalize=True))"
   ]
  },
  {
   "cell_type": "code",
   "execution_count": null,
   "metadata": {},
   "outputs": [],
   "source": []
  }
 ],
 "metadata": {
  "interpreter": {
   "hash": "a1d81e0ab65a2d871dd04cd5480301015f0912bc0455ad9e82832e105402504a"
  },
  "kernelspec": {
   "display_name": "Python 3",
   "language": "python",
   "name": "python3"
  },
  "language_info": {
   "codemirror_mode": {
    "name": "ipython",
    "version": 3
   },
   "file_extension": ".py",
   "mimetype": "text/x-python",
   "name": "python",
   "nbconvert_exporter": "python",
   "pygments_lexer": "ipython3",
   "version": "3.8.5"
  }
 },
 "nbformat": 4,
 "nbformat_minor": 2
}
